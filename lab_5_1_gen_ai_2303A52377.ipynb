{
  "nbformat": 4,
  "nbformat_minor": 0,
  "metadata": {
    "colab": {
      "provenance": [],
      "include_colab_link": true
    },
    "kernelspec": {
      "name": "python3",
      "display_name": "Python 3"
    },
    "language_info": {
      "name": "python"
    }
  },
  "cells": [
    {
      "cell_type": "markdown",
      "metadata": {
        "id": "view-in-github",
        "colab_type": "text"
      },
      "source": [
        "<a href=\"https://colab.research.google.com/github/Eshwar2916/Generative-Ai-2025/blob/main/lab_5_1_gen_ai_2303A52377.ipynb\" target=\"_parent\"><img src=\"https://colab.research.google.com/assets/colab-badge.svg\" alt=\"Open In Colab\"/></a>"
      ]
    },
    {
      "cell_type": "markdown",
      "source": [
        "Design a multi-layer ANN architecture with one input, one hidden, and one output layer. Assume a linear activation function in the output layer and a sigmoid activation function in the hidden layer. • Write Python code for a backpropagation algorithm with gradient descent optimization to update weights and bias parameters of the ANN model with training data shown in Table 1. • Calculate the mean square error with training and testing data shown in Table 2. • Write Python code that reads the input data [x1 and x2] from the user."
      ],
      "metadata": {
        "id": "3-PAZO07it6H"
      }
    },
    {
      "cell_type": "code",
      "source": [
        "import numpy as np\n",
        "\n",
        "x_train = np.array([[0.1, 0.2], [0.2, 0.3], [0.3, 0.4], [0.6, 0.7], [0.7, 0.8], [0.8, 0.9]])\n",
        "y_train = np.array([[0.3432], [0.3490], [0.3548], [0.3720], [0.3776], [0.3832]])\n",
        "\n",
        "x_test = np.array([[0.4, 0.5], [0.5, 0.6]])\n",
        "y_test = np.array([[0.3606], [0.3663]])\n",
        "\n",
        "# Initialize weights and bias randomly\n",
        "weights = np.random.rand(2, 1)\n",
        "bias = np.random.rand(1)\n",
        "\n",
        "learning_rate = 0.1\n",
        "\n",
        "for _ in range(5000):\n",
        "    #  predictions (linear model)\n",
        "    predictions = np.dot(x_train, weights) + bias\n",
        "\n",
        "    #  error\n",
        "    error = y_train - predictions\n",
        "\n",
        "    # Update weights and bias\n",
        "    weights += learning_rate * np.dot(x_train.T, error)\n",
        "    bias += learning_rate * np.sum(error)\n",
        "\n",
        "#  MSE for training data\n",
        "train_predictions = np.dot(x_train, weights) + bias\n",
        "train_mse = np.mean((y_train - train_predictions)**2)\n",
        "\n",
        "#  MSE and MAE for testing data\n",
        "test_predictions = np.dot(x_test, weights) + bias\n",
        "test_mse = np.mean((y_test - test_predictions)**2)\n",
        "test_mae = np.mean(np.abs(y_test - test_predictions))\n",
        "\n",
        "print(\"Training MSE:\", train_mse)\n",
        "print(\"Testing MSE:\", test_mse)\n",
        "print(\"Testing MAE:\", test_mae)\n",
        "\n",
        "x1, x2 = map(float, input(\"Enter x1 and x2 (space-separated): \").split())\n",
        "new_input = np.array([[x1, x2]])\n",
        "prediction = np.dot(new_input, weights) + bias\n",
        "print(\"Predicted Output:\", prediction[0][0])\n"
      ],
      "metadata": {
        "colab": {
          "base_uri": "https://localhost:8080/"
        },
        "id": "EMXNG1Y5ixCl",
        "outputId": "c3a8bb85-56ef-43b0-9211-d79b627b02ef"
      },
      "execution_count": null,
      "outputs": [
        {
          "metadata": {
            "tags": null
          },
          "name": "stdout",
          "output_type": "stream",
          "text": [
            "Training MSE: 6.907630522090756e-09\n",
            "Testing MSE: 2.2581651908844023e-08\n",
            "Testing MAE: 0.00015000000000001124\n"
          ]
        }
      ]
    }
  ]
}